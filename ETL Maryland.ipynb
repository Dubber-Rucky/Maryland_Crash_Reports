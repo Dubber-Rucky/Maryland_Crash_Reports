{
 "cells": [
  {
   "cell_type": "markdown",
   "id": "015265b1-3d67-4548-b8c6-121e8ec317fa",
   "metadata": {},
   "source": [
    "# Maryland Crash Reports - Data Analysis"
   ]
  },
  {
   "cell_type": "markdown",
   "id": "6e486bf5-040f-4474-ba6b-1337c56bcc0a",
   "metadata": {},
   "source": [
    "## Extract"
   ]
  },
  {
   "cell_type": "markdown",
   "id": "2db5d1ea-67de-42d5-a28d-c7a4b2f68295",
   "metadata": {},
   "source": [
    "> ### Extract from csv file"
   ]
  },
  {
   "cell_type": "code",
   "execution_count": 4,
   "id": "08be406e-b53d-46c6-8f48-c63aaf866f28",
   "metadata": {},
   "outputs": [],
   "source": [
    "import pandas as pd\n",
    "import numpy as np"
   ]
  },
  {
   "cell_type": "code",
   "execution_count": 5,
   "id": "06805e2d-af8d-4e76-87bc-916d43ff374d",
   "metadata": {},
   "outputs": [],
   "source": [
    "df_drivers = pd.read_csv('./Crash_Reporting_-_Drivers_Data.csv', dtype=object)"
   ]
  },
  {
   "cell_type": "markdown",
   "id": "fdc71dd2-ba76-4e6b-9e7c-84d418d016d3",
   "metadata": {},
   "source": [
    "> ### Describing data"
   ]
  },
  {
   "cell_type": "code",
   "execution_count": 7,
   "id": "47f819d2-30d5-4ef6-8eea-5bde7fee0243",
   "metadata": {
    "scrolled": true
   },
   "outputs": [
    {
     "data": {
      "text/html": [
       "<div>\n",
       "<style scoped>\n",
       "    .dataframe tbody tr th:only-of-type {\n",
       "        vertical-align: middle;\n",
       "    }\n",
       "\n",
       "    .dataframe tbody tr th {\n",
       "        vertical-align: top;\n",
       "    }\n",
       "\n",
       "    .dataframe thead th {\n",
       "        text-align: right;\n",
       "    }\n",
       "</style>\n",
       "<table border=\"1\" class=\"dataframe\">\n",
       "  <thead>\n",
       "    <tr style=\"text-align: right;\">\n",
       "      <th></th>\n",
       "      <th>Report Number</th>\n",
       "      <th>Local Case Number</th>\n",
       "      <th>Agency Name</th>\n",
       "      <th>ACRS Report Type</th>\n",
       "      <th>Crash Date/Time</th>\n",
       "      <th>Route Type</th>\n",
       "      <th>Road Name</th>\n",
       "      <th>Cross-Street Name</th>\n",
       "      <th>Off-Road Description</th>\n",
       "      <th>Municipality</th>\n",
       "      <th>...</th>\n",
       "      <th>Vehicle Going Dir</th>\n",
       "      <th>Speed Limit</th>\n",
       "      <th>Driverless Vehicle</th>\n",
       "      <th>Parked Vehicle</th>\n",
       "      <th>Vehicle Year</th>\n",
       "      <th>Vehicle Make</th>\n",
       "      <th>Vehicle Model</th>\n",
       "      <th>Latitude</th>\n",
       "      <th>Longitude</th>\n",
       "      <th>Location</th>\n",
       "    </tr>\n",
       "  </thead>\n",
       "  <tbody>\n",
       "    <tr>\n",
       "      <th>0</th>\n",
       "      <td>DM8479000T</td>\n",
       "      <td>210020119</td>\n",
       "      <td>Takoma Park Police Depart</td>\n",
       "      <td>Property Damage Crash</td>\n",
       "      <td>05/27/2021 07:40:00 PM</td>\n",
       "      <td>NaN</td>\n",
       "      <td>NaN</td>\n",
       "      <td>NaN</td>\n",
       "      <td>IN PARKING LOT</td>\n",
       "      <td>NaN</td>\n",
       "      <td>...</td>\n",
       "      <td>NaN</td>\n",
       "      <td>0</td>\n",
       "      <td>No</td>\n",
       "      <td>Yes</td>\n",
       "      <td>2017</td>\n",
       "      <td>HINO</td>\n",
       "      <td>TWK</td>\n",
       "      <td>38.98765667</td>\n",
       "      <td>-76.987545</td>\n",
       "      <td>(38.98765667, -76.987545)</td>\n",
       "    </tr>\n",
       "    <tr>\n",
       "      <th>1</th>\n",
       "      <td>MCP2970000R</td>\n",
       "      <td>15045937</td>\n",
       "      <td>MONTGOMERY</td>\n",
       "      <td>Property Damage Crash</td>\n",
       "      <td>09/11/2015 01:29:00 PM</td>\n",
       "      <td>NaN</td>\n",
       "      <td>NaN</td>\n",
       "      <td>NaN</td>\n",
       "      <td>Parking Lot: \\n2525 Ennalls Ave</td>\n",
       "      <td>NaN</td>\n",
       "      <td>...</td>\n",
       "      <td>South</td>\n",
       "      <td>5</td>\n",
       "      <td>No</td>\n",
       "      <td>No</td>\n",
       "      <td>2012</td>\n",
       "      <td>TOYOTA</td>\n",
       "      <td>SU</td>\n",
       "      <td>39.03991652</td>\n",
       "      <td>-77.05364898</td>\n",
       "      <td>(39.03991652, -77.05364898)</td>\n",
       "    </tr>\n",
       "    <tr>\n",
       "      <th>2</th>\n",
       "      <td>MCP20160036</td>\n",
       "      <td>180040948</td>\n",
       "      <td>Montgomery County Police</td>\n",
       "      <td>Property Damage Crash</td>\n",
       "      <td>08/17/2018 02:25:00 PM</td>\n",
       "      <td>NaN</td>\n",
       "      <td>NaN</td>\n",
       "      <td>NaN</td>\n",
       "      <td>PARKING LOT OF 16246 FREDERICK RD</td>\n",
       "      <td>NaN</td>\n",
       "      <td>...</td>\n",
       "      <td>West</td>\n",
       "      <td>15</td>\n",
       "      <td>No</td>\n",
       "      <td>No</td>\n",
       "      <td>2015</td>\n",
       "      <td>MAZD</td>\n",
       "      <td>TK</td>\n",
       "      <td>38.743373</td>\n",
       "      <td>-77.54699707</td>\n",
       "      <td>(38.743373, -77.54699707)</td>\n",
       "    </tr>\n",
       "    <tr>\n",
       "      <th>3</th>\n",
       "      <td>EJ7879003C</td>\n",
       "      <td>230048975</td>\n",
       "      <td>Gaithersburg Police Depar</td>\n",
       "      <td>Injury Crash</td>\n",
       "      <td>08/11/2023 06:00:00 PM</td>\n",
       "      <td>NaN</td>\n",
       "      <td>NaN</td>\n",
       "      <td>NaN</td>\n",
       "      <td>1 N SUMMIT DRIVE</td>\n",
       "      <td>NaN</td>\n",
       "      <td>...</td>\n",
       "      <td>Unknown</td>\n",
       "      <td>15</td>\n",
       "      <td>No</td>\n",
       "      <td>No</td>\n",
       "      <td>2018</td>\n",
       "      <td>RAM</td>\n",
       "      <td>TK</td>\n",
       "      <td>39.14587303</td>\n",
       "      <td>-77.19194047</td>\n",
       "      <td>(39.14587303, -77.19194047)</td>\n",
       "    </tr>\n",
       "    <tr>\n",
       "      <th>4</th>\n",
       "      <td>MCP2967004Y</td>\n",
       "      <td>230070277</td>\n",
       "      <td>Montgomery County Police</td>\n",
       "      <td>Property Damage Crash</td>\n",
       "      <td>12/06/2023 06:42:00 PM</td>\n",
       "      <td>Maryland (State)</td>\n",
       "      <td>CONNECTICUT AVE</td>\n",
       "      <td>BALTIMORE ST</td>\n",
       "      <td>NaN</td>\n",
       "      <td>KENSINGTON</td>\n",
       "      <td>...</td>\n",
       "      <td>South</td>\n",
       "      <td>35</td>\n",
       "      <td>No</td>\n",
       "      <td>No</td>\n",
       "      <td>2017</td>\n",
       "      <td>AUDI</td>\n",
       "      <td>A3</td>\n",
       "      <td>39.02517017</td>\n",
       "      <td>-77.07633333</td>\n",
       "      <td>(39.02517017, -77.07633333)</td>\n",
       "    </tr>\n",
       "  </tbody>\n",
       "</table>\n",
       "<p>5 rows × 39 columns</p>\n",
       "</div>"
      ],
      "text/plain": [
       "  Report Number Local Case Number                Agency Name  \\\n",
       "0    DM8479000T         210020119  Takoma Park Police Depart   \n",
       "1   MCP2970000R          15045937                 MONTGOMERY   \n",
       "2   MCP20160036         180040948   Montgomery County Police   \n",
       "3    EJ7879003C         230048975  Gaithersburg Police Depar   \n",
       "4   MCP2967004Y         230070277   Montgomery County Police   \n",
       "\n",
       "        ACRS Report Type         Crash Date/Time        Route Type  \\\n",
       "0  Property Damage Crash  05/27/2021 07:40:00 PM               NaN   \n",
       "1  Property Damage Crash  09/11/2015 01:29:00 PM               NaN   \n",
       "2  Property Damage Crash  08/17/2018 02:25:00 PM               NaN   \n",
       "3           Injury Crash  08/11/2023 06:00:00 PM               NaN   \n",
       "4  Property Damage Crash  12/06/2023 06:42:00 PM  Maryland (State)   \n",
       "\n",
       "         Road Name Cross-Street Name               Off-Road Description  \\\n",
       "0              NaN               NaN                     IN PARKING LOT   \n",
       "1              NaN               NaN    Parking Lot: \\n2525 Ennalls Ave   \n",
       "2              NaN               NaN  PARKING LOT OF 16246 FREDERICK RD   \n",
       "3              NaN               NaN                   1 N SUMMIT DRIVE   \n",
       "4  CONNECTICUT AVE      BALTIMORE ST                                NaN   \n",
       "\n",
       "  Municipality  ... Vehicle Going Dir Speed Limit Driverless Vehicle  \\\n",
       "0          NaN  ...               NaN           0                 No   \n",
       "1          NaN  ...             South           5                 No   \n",
       "2          NaN  ...              West          15                 No   \n",
       "3          NaN  ...           Unknown          15                 No   \n",
       "4   KENSINGTON  ...             South          35                 No   \n",
       "\n",
       "  Parked Vehicle Vehicle Year Vehicle Make Vehicle Model     Latitude  \\\n",
       "0            Yes         2017         HINO           TWK  38.98765667   \n",
       "1             No         2012       TOYOTA            SU  39.03991652   \n",
       "2             No         2015         MAZD            TK    38.743373   \n",
       "3             No         2018          RAM            TK  39.14587303   \n",
       "4             No         2017         AUDI            A3  39.02517017   \n",
       "\n",
       "      Longitude                     Location  \n",
       "0    -76.987545    (38.98765667, -76.987545)  \n",
       "1  -77.05364898  (39.03991652, -77.05364898)  \n",
       "2  -77.54699707    (38.743373, -77.54699707)  \n",
       "3  -77.19194047  (39.14587303, -77.19194047)  \n",
       "4  -77.07633333  (39.02517017, -77.07633333)  \n",
       "\n",
       "[5 rows x 39 columns]"
      ]
     },
     "execution_count": 7,
     "metadata": {},
     "output_type": "execute_result"
    }
   ],
   "source": [
    "df_drivers.head()"
   ]
  },
  {
   "cell_type": "code",
   "execution_count": 8,
   "id": "44d74818-1824-45c3-aa08-3ec90767dd18",
   "metadata": {},
   "outputs": [
    {
     "data": {
      "text/plain": [
       "(201441, 39)"
      ]
     },
     "execution_count": 8,
     "metadata": {},
     "output_type": "execute_result"
    }
   ],
   "source": [
    "df_drivers.shape"
   ]
  },
  {
   "cell_type": "code",
   "execution_count": 9,
   "id": "89d263e5-72e6-4fb4-850c-eaadf54a71b4",
   "metadata": {},
   "outputs": [
    {
     "data": {
      "text/plain": [
       "113505"
      ]
     },
     "execution_count": 9,
     "metadata": {},
     "output_type": "execute_result"
    }
   ],
   "source": [
    "df_drivers['Report Number'].nunique()"
   ]
  },
  {
   "cell_type": "code",
   "execution_count": 10,
   "id": "dd10b1b7-5d63-4ad7-bdeb-08c3ea1439af",
   "metadata": {
    "scrolled": true
   },
   "outputs": [
    {
     "data": {
      "text/plain": [
       "Report Number                         0\n",
       "Local Case Number                     0\n",
       "Agency Name                           0\n",
       "ACRS Report Type                      0\n",
       "Crash Date/Time                       0\n",
       "Route Type                        19740\n",
       "Road Name                         22403\n",
       "Cross-Street Name                 34491\n",
       "Off-Road Description             182741\n",
       "Municipality                     182315\n",
       "Related Non-Motorist             194918\n",
       "Collision Type                      585\n",
       "Weather                           13356\n",
       "Surface Condition                 23016\n",
       "Light                              1445\n",
       "Traffic Control                   28191\n",
       "Driver Substance Abuse            31320\n",
       "Non-Motorist Substance Abuse     196064\n",
       "Person ID                             0\n",
       "Driver At Fault                       0\n",
       "Injury Severity                    1934\n",
       "Circumstance                     162775\n",
       "Driver Distracted By               2095\n",
       "Drivers License State             13317\n",
       "Vehicle ID                            0\n",
       "Vehicle Damage Extent               316\n",
       "Vehicle First Impact Location       156\n",
       "Vehicle Body Type                  3024\n",
       "Vehicle Movement                   1378\n",
       "Vehicle Going Dir                  7790\n",
       "Speed Limit                           0\n",
       "Driverless Vehicle                    0\n",
       "Parked Vehicle                     1526\n",
       "Vehicle Year                          0\n",
       "Vehicle Make                        826\n",
       "Vehicle Model                       868\n",
       "Latitude                              0\n",
       "Longitude                             0\n",
       "Location                              0\n",
       "dtype: int64"
      ]
     },
     "execution_count": 10,
     "metadata": {},
     "output_type": "execute_result"
    }
   ],
   "source": [
    "df_drivers.isnull().sum()"
   ]
  },
  {
   "cell_type": "markdown",
   "id": "c7697c0c-9502-465c-8b05-d158e0e58792",
   "metadata": {},
   "source": [
    "Just from a glance, multiple data points are null and many more are also ambiguous values such as *'Unknown'* and *'Other'*. Also, there are inconsistent values in ***'Agency Name'*** such as *MONTGOMERY* and *Montgomery County Police*. There are 201441 rows (representing the number of individuals/individual vehicles involved in a crash), but only 113505 'Report Numbers' (representing the number of actual crashes). \n",
    "<br>\n",
    "<br>\n",
    "We will have to clean the data by deciding how to deal with null and ambiguous values as well as standardizing values across the columns."
   ]
  },
  {
   "cell_type": "markdown",
   "id": "d695f768-6e8d-43f4-a8a2-875db6fefdc3",
   "metadata": {},
   "source": [
    "## Transform"
   ]
  },
  {
   "cell_type": "markdown",
   "id": "c59f59bd-871e-485d-8cfa-b140df715b65",
   "metadata": {},
   "source": [
    "> ### Datatypes (datetime and numeric)"
   ]
  },
  {
   "cell_type": "code",
   "execution_count": 14,
   "id": "ef8c6cfe-43c7-4f65-b626-5c9f6e83396d",
   "metadata": {},
   "outputs": [
    {
     "data": {
      "text/plain": [
       "dtype('<M8[ns]')"
      ]
     },
     "execution_count": 14,
     "metadata": {},
     "output_type": "execute_result"
    }
   ],
   "source": [
    "# Crash Date/Time\n",
    "# convert to datetime object from string in format like '09/19/2024 09:45:00 AM'\n",
    "df_drivers['Crash Date/Time'] = pd.to_datetime(df_drivers['Crash Date/Time'], format='%m/%d/%Y %I:%M:%S %p')\n",
    "df_drivers['Crash Date/Time'].dtype"
   ]
  },
  {
   "cell_type": "code",
   "execution_count": 15,
   "id": "97380a8b-ae62-46cf-b8c2-ae26d808cc26",
   "metadata": {},
   "outputs": [
    {
     "data": {
      "text/plain": [
       "Vehicle Year\n",
       "0       4799\n",
       "1          2\n",
       "2          1\n",
       "3          2\n",
       "4          1\n",
       "        ... \n",
       "7817       1\n",
       "8008       1\n",
       "8888       2\n",
       "9000       1\n",
       "9999      64\n",
       "Name: count, Length: 145, dtype: int64"
      ]
     },
     "execution_count": 15,
     "metadata": {},
     "output_type": "execute_result"
    }
   ],
   "source": [
    "# Vehicle Year\n",
    "df_drivers['Vehicle Year'] = pd.to_numeric(df_drivers['Vehicle Year'])\n",
    "df_drivers['Vehicle Year'].value_counts().sort_index()"
   ]
  },
  {
   "cell_type": "code",
   "execution_count": 16,
   "id": "b1e30203-a221-4db2-94a1-4bd1f9321f36",
   "metadata": {},
   "outputs": [
    {
     "data": {
      "text/plain": [
       "Vehicle Year\n",
       "0       5066\n",
       "1901       3\n",
       "1911       1\n",
       "1930       1\n",
       "1938       1\n",
       "        ... \n",
       "2021    4130\n",
       "2022    3185\n",
       "2023    2304\n",
       "2024    1374\n",
       "2025     342\n",
       "Name: count, Length: 74, dtype: int64"
      ]
     },
     "execution_count": 16,
     "metadata": {},
     "output_type": "execute_result"
    }
   ],
   "source": [
    "from datetime import datetime\n",
    "\n",
    "# get current year\n",
    "current_year = datetime.now().year\n",
    "\n",
    "# Arbitrary values, any vehicle year less than 1901 or\n",
    "# greater than the current_year is deemed invalid\n",
    "df_drivers.loc[df_drivers['Vehicle Year'] < 1901, 'Vehicle Year'] = 0\n",
    "df_drivers.loc[df_drivers['Vehicle Year'] > current_year, 'Vehicle Year'] = 0\n",
    "\n",
    "df_drivers['Vehicle Year'].value_counts().sort_index()"
   ]
  },
  {
   "cell_type": "code",
   "execution_count": 17,
   "id": "d437260f-852c-4c82-b2da-12dd906a0bc0",
   "metadata": {},
   "outputs": [],
   "source": [
    "# Latitude\n",
    "# Longitude\n",
    "# 'Longitude' and 'Longitude' column to numeric\n",
    "df_drivers['Latitude'] = pd.to_numeric(df_drivers['Latitude'])\n",
    "df_drivers['Longitude'] = pd.to_numeric(df_drivers['Longitude'])"
   ]
  },
  {
   "cell_type": "markdown",
   "id": "49b1ede9-65d1-461d-b341-9e0d0d421698",
   "metadata": {},
   "source": [
    "> ### Cleaning data (replacing)"
   ]
  },
  {
   "cell_type": "markdown",
   "id": "141d0834-8008-4af4-b834-e66be666a129",
   "metadata": {},
   "source": [
    "Most columns are mostly standardized and only require few adjustments to maintain consistency. In this case, we will standardize case, add or remove substrings to standardize and replace *'Unknown'* with *NaN* value. "
   ]
  },
  {
   "cell_type": "code",
   "execution_count": 20,
   "id": "94a79690-5603-4cf2-80e8-6f4ca94a55f4",
   "metadata": {},
   "outputs": [
    {
     "data": {
      "text/plain": [
       "Route Type\n",
       "Bicycle                   359\n",
       "County                  65885\n",
       "Crossover                 200\n",
       "Government                748\n",
       "Interstate (State)       3505\n",
       "Local                     574\n",
       "Maryland (State)        87048\n",
       "Municipality            11487\n",
       "Other Public Roadway     1382\n",
       "Private                   232\n",
       "Ramp                     1125\n",
       "Service Road               49\n",
       "Spur                      270\n",
       "US (State)               8817\n",
       "NaN                     19760\n",
       "Name: count, dtype: int64"
      ]
     },
     "execution_count": 20,
     "metadata": {},
     "output_type": "execute_result"
    }
   ],
   "source": [
    "# Route Type\n",
    "df_drivers['Route Type'] = df_drivers['Route Type'].replace(' Route', '', regex=True)\n",
    "df_drivers['Route Type'] = df_drivers['Route Type'].replace('Unknown', np.nan)\n",
    "df_drivers['Route Type'].value_counts(dropna=False).sort_index()"
   ]
  },
  {
   "cell_type": "code",
   "execution_count": 21,
   "id": "d793a491-02f6-4bbf-ab46-a68d81ce9484",
   "metadata": {},
   "outputs": [
    {
     "data": {
      "text/plain": [
       "Municipality\n",
       "Brookeville                16\n",
       "Chevy Chase #3            156\n",
       "Chevy Chase #4            325\n",
       "Chevy Chase #5             74\n",
       "Chevy Chase View           93\n",
       "Chevy Chase Village        87\n",
       "Drummond                   12\n",
       "Friendship Heights        133\n",
       "Gaithersburg             6437\n",
       "Garrett Park               53\n",
       "Glen Echo                  33\n",
       "Kensington                413\n",
       "Laytonsville               25\n",
       "Matins Addition            28\n",
       "North Chevy Chase          34\n",
       "Poolesville               108\n",
       "Rockville                9320\n",
       "Somerset                   53\n",
       "Takoma Park              1685\n",
       "Washington Grove           41\n",
       "NaN                    182315\n",
       "Name: count, dtype: int64"
      ]
     },
     "execution_count": 21,
     "metadata": {},
     "output_type": "execute_result"
    }
   ],
   "source": [
    "# Municipality\n",
    "df_drivers['Municipality'] = df_drivers['Municipality'].str.title()\n",
    "df_drivers['Municipality'].value_counts(dropna=False).sort_index()"
   ]
  },
  {
   "cell_type": "code",
   "execution_count": 22,
   "id": "c6d7dbd4-1279-4cf7-a7a6-0ac13f98c29e",
   "metadata": {},
   "outputs": [],
   "source": [
    "# typo with 'Matins Addition'\n",
    "df_drivers['Municipality'] = df_drivers['Municipality'].replace('Matins Addition', \"Martin's Addition\")"
   ]
  },
  {
   "cell_type": "code",
   "execution_count": 23,
   "id": "ce9abc9c-b004-4005-82d0-3d1ced8605b7",
   "metadata": {},
   "outputs": [
    {
     "data": {
      "text/plain": [
       "Driver At Fault\n",
       "Yes        102071\n",
       "No          94688\n",
       "Unknown      4682\n",
       "Name: count, dtype: int64"
      ]
     },
     "execution_count": 23,
     "metadata": {},
     "output_type": "execute_result"
    }
   ],
   "source": [
    "# Driver at Fault\n",
    "df_drivers['Driver At Fault'].value_counts(dropna=False)"
   ]
  },
  {
   "cell_type": "code",
   "execution_count": 24,
   "id": "f0b27034-52f2-4eb0-819f-49b46f400659",
   "metadata": {},
   "outputs": [],
   "source": [
    "# replace 'Unknown' with NaN\n",
    "df_drivers['Driver At Fault'] = df_drivers['Driver At Fault'].replace('Unknown', np.nan)"
   ]
  },
  {
   "cell_type": "code",
   "execution_count": 25,
   "id": "31521e44-09b3-4b21-8d2f-c15f106e5b8e",
   "metadata": {},
   "outputs": [
    {
     "data": {
      "text/plain": [
       "Injury Severity\n",
       "No Apparent Injury          163824\n",
       "Possible Injury              19450\n",
       "Suspected Minor Injury       14391\n",
       "NaN                           1934\n",
       "Suspected Serious Injury      1657\n",
       "Fatal Injury                   185\n",
       "Name: count, dtype: int64"
      ]
     },
     "execution_count": 25,
     "metadata": {},
     "output_type": "execute_result"
    }
   ],
   "source": [
    "# Injury Severity\n",
    "df_drivers['Injury Severity'] = df_drivers['Injury Severity'].str.title()\n",
    "df_drivers['Injury Severity'].value_counts(dropna=False)"
   ]
  },
  {
   "cell_type": "code",
   "execution_count": 26,
   "id": "7b153b45-e22c-4602-921e-be490fcb2622",
   "metadata": {},
   "outputs": [
    {
     "data": {
      "text/plain": [
       "Vehicle Damage Extent\n",
       "DISABLING               62354\n",
       "FUNCTIONAL              44993\n",
       "SUPERFICIAL             43877\n",
       "Disabling               12408\n",
       "Superficial              7893\n",
       "DESTROYED                7610\n",
       "Functional               6649\n",
       "UNKNOWN                  6620\n",
       "NO DAMAGE                6244\n",
       "Vehicle Not at Scene     2047\n",
       "No Damage                 328\n",
       "NaN                       316\n",
       "OTHER                     102\n",
       "Name: count, dtype: int64"
      ]
     },
     "execution_count": 26,
     "metadata": {},
     "output_type": "execute_result"
    }
   ],
   "source": [
    "# Injury Severity\n",
    "df_drivers['Vehicle Damage Extent'].value_counts(dropna=False)"
   ]
  },
  {
   "cell_type": "code",
   "execution_count": 27,
   "id": "7520d1a8-07de-414b-a533-b4ebde8d1717",
   "metadata": {},
   "outputs": [],
   "source": [
    "df_drivers['Vehicle Damage Extent'] = df_drivers['Vehicle Damage Extent'].replace('Unknown', np.nan)"
   ]
  },
  {
   "cell_type": "markdown",
   "id": "fe8c5691-db81-4e78-84e8-20b2b30a1d25",
   "metadata": {},
   "source": [
    "> ### Cleaning data"
   ]
  },
  {
   "cell_type": "markdown",
   "id": "5ea9ff81-a183-453b-89e3-d3b9ad73b4b6",
   "metadata": {},
   "source": [
    "Some columns have more unstandardized or incorrect values. \n",
    "<br>\n",
    "<br>\n",
    "As mentioned before, ***'Agency Name'*** has inconsistent values. We will standardize the values by dictionary mapping standardized values and updating the old values."
   ]
  },
  {
   "cell_type": "code",
   "execution_count": 30,
   "id": "6508266c-cf65-42d1-bd8c-e909337d718c",
   "metadata": {},
   "outputs": [],
   "source": [
    "# function to update column values based on manual dictionary mapping\n",
    "def dictionary_mapping(column, column_mapping, column_dict={}):\n",
    "    # create dictionary with default values from column\n",
    "    for value in df_drivers[column].drop_duplicates().sort_values():\n",
    "        column_dict[value] = value\n",
    "\n",
    "    # update default dictionary with manual dictionary mapping\n",
    "    column_dict.update(column_mapping)\n",
    "    df_drivers[column] = df_drivers[column].apply(lambda x:column_dict[x])\n",
    "\n",
    "    # show updated values in column\n",
    "    print(df_drivers[column].value_counts(dropna=False).sort_index())"
   ]
  },
  {
   "cell_type": "code",
   "execution_count": 31,
   "id": "2cb891ae-499a-41d9-bac2-3ce988c23b91",
   "metadata": {},
   "outputs": [
    {
     "data": {
      "text/plain": [
       "Agency Name\n",
       "Gaithersburg                   2222\n",
       "Gaithersburg Police Depar      7841\n",
       "Maryland-National Capital      1154\n",
       "Mcpark                          337\n",
       "Montgomery                    35331\n",
       "Montgomery County Police     138376\n",
       "Rockville                      2628\n",
       "Rockville Police Departme      9839\n",
       "Takoma                          720\n",
       "Takoma Park Police Depart      2993\n",
       "Name: count, dtype: int64"
      ]
     },
     "execution_count": 31,
     "metadata": {},
     "output_type": "execute_result"
    }
   ],
   "source": [
    "# Agency Name\n",
    "df_drivers['Agency Name'] = df_drivers['Agency Name'].str.title()\n",
    "df_drivers['Agency Name'].value_counts(dropna=False).sort_index()"
   ]
  },
  {
   "cell_type": "code",
   "execution_count": 32,
   "id": "0b486b0f-2453-4de3-9eb6-a0d6262ce97d",
   "metadata": {},
   "outputs": [
    {
     "name": "stdout",
     "output_type": "stream",
     "text": [
      "Agency Name\n",
      "Gaithersburg Police Department                       10063\n",
      "Maryland-National Capital Park Police Department      1491\n",
      "Montgomery County Police Department                 173707\n",
      "Rockville Police Department                          12467\n",
      "Takoma Park Police Department                         3713\n",
      "Name: count, dtype: int64\n"
     ]
    }
   ],
   "source": [
    "agency_name_mapping = {\n",
    "    'Gaithersburg': 'Gaithersburg Police Department',\n",
    "    'Gaithersburg Police Depar': 'Gaithersburg Police Department',\n",
    "    'Maryland-National Capital': 'Maryland-National Capital Park Police Department',\n",
    "    'Mcpark': 'Maryland-National Capital Park Police Department',\n",
    "    'Montgomery': 'Montgomery County Police Department',\n",
    "    'Montgomery County Police': 'Montgomery County Police Department',\n",
    "    'Rockville': 'Rockville Police Department',\n",
    "    'Rockville Police Departme': 'Rockville Police Department',\n",
    "    'Takoma': 'Takoma Park Police Department', \n",
    "    'Takoma Park Police Depart': 'Takoma Park Police Department'\n",
    "}\n",
    "\n",
    "dictionary_mapping('Agency Name', agency_name_mapping)"
   ]
  },
  {
   "cell_type": "code",
   "execution_count": 33,
   "id": "bd94e7bc-9c27-423f-9d32-8e28db505e53",
   "metadata": {},
   "outputs": [
    {
     "data": {
      "text/plain": [
       "Agency Name\n",
       "Gaithersburg Police Department                       10063\n",
       "Maryland-National Capital Park Police Department      1491\n",
       "Montgomery County Police Department                 173707\n",
       "Rockville Police Department                          12467\n",
       "Takoma Park Police Department                         3713\n",
       "Name: count, dtype: int64"
      ]
     },
     "execution_count": 33,
     "metadata": {},
     "output_type": "execute_result"
    }
   ],
   "source": [
    "df_drivers['Agency Name'].value_counts(dropna=False).sort_index()"
   ]
  },
  {
   "cell_type": "markdown",
   "id": "7c6c6e1f-6605-4d6f-9de7-0d0303b951f9",
   "metadata": {},
   "source": [
    "Now, all values are standardized and have the same name for each agency. We will continue to apply the same function for similar columns. "
   ]
  },
  {
   "cell_type": "code",
   "execution_count": 35,
   "id": "4135cddc-9c5a-43b6-a62f-e468e1f32fee",
   "metadata": {},
   "outputs": [
    {
     "data": {
      "text/plain": [
       "Weather\n",
       "Blowing Sand, Soil, Dirt                 15\n",
       "Blowing Snow                            179\n",
       "Clear                                139649\n",
       "Cloudy                                19920\n",
       "Fog, Smog, Smoke                         64\n",
       "Foggy                                   676\n",
       "Freezing Rain Or Freezing Drizzle        53\n",
       "Other                                   370\n",
       "Rain                                   3160\n",
       "Raining                               20609\n",
       "Severe Crosswinds                        24\n",
       "Severe Winds                            154\n",
       "Sleet                                   218\n",
       "Sleet Or Hail                            12\n",
       "Snow                                   1713\n",
       "Unknown                                 878\n",
       "Wintry Mix                              391\n",
       "NaN                                   13356\n",
       "Name: count, dtype: int64"
      ]
     },
     "execution_count": 35,
     "metadata": {},
     "output_type": "execute_result"
    }
   ],
   "source": [
    "# Weather\n",
    "df_drivers['Weather'] = df_drivers['Weather'].str.title()\n",
    "df_drivers['Weather'].value_counts(dropna=False).sort_index()"
   ]
  },
  {
   "cell_type": "code",
   "execution_count": 36,
   "id": "d876a34a-6eda-42f8-92f2-95bf66ffce39",
   "metadata": {},
   "outputs": [
    {
     "name": "stdout",
     "output_type": "stream",
     "text": [
      "Weather\n",
      "Blowing Sand, Soil, Or Dirt              15\n",
      "Blowing Snow                            179\n",
      "Clear                                139649\n",
      "Cloudy                                19920\n",
      "Fog, Smog, Or Smoke                     740\n",
      "Freezing Rain Or Freezing Drizzle        53\n",
      "Other                                   370\n",
      "Rain                                  23769\n",
      "Severe Crosswinds                        24\n",
      "Severe Winds                            154\n",
      "Sleet Or Hail                           230\n",
      "Snow                                   1713\n",
      "Wintry Mix                              391\n",
      "NaN                                   14234\n",
      "Name: count, dtype: int64\n"
     ]
    }
   ],
   "source": [
    "weather_mapping = {\n",
    "    'Blowing Sand, Soil, Dirt': 'Blowing Sand, Soil, Or Dirt',\n",
    "    'Fog, Smog, Smoke': 'Fog, Smog, Or Smoke',\n",
    "    'Foggy': 'Fog, Smog, Or Smoke',\n",
    "    'Raining': 'Rain',\n",
    "    'Sleet': 'Sleet Or Hail',\n",
    "    'Unknown': np.nan\n",
    "}\n",
    "\n",
    "dictionary_mapping('Weather', weather_mapping)"
   ]
  },
  {
   "cell_type": "code",
   "execution_count": 37,
   "id": "8de26dd3-e360-4d49-bd4d-6d733403e241",
   "metadata": {},
   "outputs": [
    {
     "data": {
      "text/plain": [
       "Surface Condition\n",
       "Dry                         142295\n",
       "Ice                           1058\n",
       "Ice/Frost                      158\n",
       "Mud, Dirt, Gravel               53\n",
       "Oil                             29\n",
       "Other                          206\n",
       "Sand                             8\n",
       "Slush                          280\n",
       "Snow                          1136\n",
       "Unknown                        509\n",
       "Water (Standing, Moving)         8\n",
       "Water(Standing/Moving)          41\n",
       "Wet                          32644\n",
       "NaN                          23016\n",
       "Name: count, dtype: int64"
      ]
     },
     "execution_count": 37,
     "metadata": {},
     "output_type": "execute_result"
    }
   ],
   "source": [
    "# Surface Condition\n",
    "df_drivers['Surface Condition'] = df_drivers['Surface Condition'].str.title()\n",
    "df_drivers['Surface Condition'].value_counts(dropna=False).sort_index()"
   ]
  },
  {
   "cell_type": "code",
   "execution_count": 38,
   "id": "d48fa79e-dec3-4c9c-a933-2beb70f2dd6f",
   "metadata": {},
   "outputs": [
    {
     "name": "stdout",
     "output_type": "stream",
     "text": [
      "Surface Condition\n",
      "Dry                     142295\n",
      "Ice Or Frost              1216\n",
      "Mud, Dirt, Or Gravel        53\n",
      "Oil                         29\n",
      "Other                      206\n",
      "Sand                         8\n",
      "Slush                      280\n",
      "Snow                      1136\n",
      "Water                       49\n",
      "Wet                      32644\n",
      "NaN                      23525\n",
      "Name: count, dtype: int64\n"
     ]
    }
   ],
   "source": [
    "surface_condition_mapping ={\n",
    "    'Ice': 'Ice Or Frost',\n",
    "    'Ice/Frost': 'Ice Or Frost',\n",
    "    'Mud, Dirt, Gravel': 'Mud, Dirt, Or Gravel',\n",
    "    'Unknown': np.nan,\n",
    "    'Water (Standing, Moving)': 'Water',\n",
    "    'Water(Standing/Moving)': 'Water'\n",
    "}\n",
    "\n",
    "dictionary_mapping('Surface Condition', surface_condition_mapping)"
   ]
  },
  {
   "cell_type": "code",
   "execution_count": 39,
   "id": "acc89a36-4e68-423b-b04e-ecae9bb733c6",
   "metadata": {},
   "outputs": [
    {
     "data": {
      "text/plain": [
       "Light\n",
       "Dark - Lighted                6465\n",
       "Dark - Not Lighted             991\n",
       "Dark - Unknown Lighting        175\n",
       "Dark -- Unknown Lighting      1578\n",
       "Dark Lights On               39551\n",
       "Dark No Lights                4966\n",
       "Dawn                          3760\n",
       "Daylight                    136966\n",
       "Dusk                          4321\n",
       "Other                          435\n",
       "Unknown                        788\n",
       "NaN                           1445\n",
       "Name: count, dtype: int64"
      ]
     },
     "execution_count": 39,
     "metadata": {},
     "output_type": "execute_result"
    }
   ],
   "source": [
    "# Light\n",
    "df_drivers['Light'] = df_drivers['Light'].str.title()\n",
    "df_drivers['Light'].value_counts(dropna=False).sort_index()"
   ]
  },
  {
   "cell_type": "code",
   "execution_count": 40,
   "id": "8a7ea718-7365-43fb-b7da-89c4b9b9558b",
   "metadata": {},
   "outputs": [
    {
     "name": "stdout",
     "output_type": "stream",
     "text": [
      "Light\n",
      "Dark (Lighted)              46016\n",
      "Dark (Not Lighted)           5957\n",
      "Dark (Unknown Lighting)      1753\n",
      "Dawn                         3760\n",
      "Daylight                   136966\n",
      "Dusk                         4321\n",
      "Other                         435\n",
      "NaN                          2233\n",
      "Name: count, dtype: int64\n"
     ]
    }
   ],
   "source": [
    "light_mapping = {\n",
    "    'Dark - Lighted': 'Dark (Lighted)',\n",
    "    'Dark - Not Lighted': 'Dark (Not Lighted)',\n",
    "    'Dark - Unknown Lighting': 'Dark (Unknown Lighting)',\n",
    "    'Dark -- Unknown Lighting': 'Dark (Unknown Lighting)',\n",
    "    'Dark Lights On': 'Dark (Lighted)',\n",
    "    'Dark No Lights': 'Dark (Not Lighted)',\n",
    "    'Unknown': np.nan\n",
    "}\n",
    "\n",
    "dictionary_mapping('Light', light_mapping)"
   ]
  },
  {
   "cell_type": "code",
   "execution_count": 41,
   "id": "22b2a99a-514e-4da9-a064-c663edc0d655",
   "metadata": {},
   "outputs": [
    {
     "data": {
      "text/plain": [
       "Vehicle Damage Extent\n",
       "Destroyed                7610\n",
       "Disabling               74762\n",
       "Functional              51642\n",
       "No Damage                6572\n",
       "Other                     102\n",
       "Superficial             51770\n",
       "Unknown                  6620\n",
       "Vehicle Not At Scene     2047\n",
       "NaN                       316\n",
       "Name: count, dtype: int64"
      ]
     },
     "execution_count": 41,
     "metadata": {},
     "output_type": "execute_result"
    }
   ],
   "source": [
    "# Vehicle Damage Extent\n",
    "df_drivers['Vehicle Damage Extent'] = df_drivers['Vehicle Damage Extent'].str.title()\n",
    "df_drivers['Vehicle Damage Extent'].value_counts(dropna=False).sort_index()"
   ]
  },
  {
   "cell_type": "markdown",
   "id": "c2961610-ca21-4e0e-8e1b-d87bc323bc59",
   "metadata": {},
   "source": [
    "> ### Cleaning data (manipulating data)"
   ]
  },
  {
   "cell_type": "markdown",
   "id": "3dc609d6-e6b6-42a0-a86c-bac5f319b77e",
   "metadata": {},
   "source": [
    "Other columns require more work to standardize and clean. For ***'Driver Substance Abuse'***, the column has values for both alcohol and drug abuse by the driver. We will convert the column to two separate columns for alcohol and drug abuse and convert the columns to a binary enum - either *'1'*, *'0'*, or *NaN*. "
   ]
  },
  {
   "cell_type": "code",
   "execution_count": 44,
   "id": "aeadb941-9e89-469c-aa92-af23759f7f41",
   "metadata": {
    "scrolled": true
   },
   "outputs": [
    {
     "data": {
      "text/plain": [
       "Driver Substance Abuse\n",
       "Alcohol Contributed                                      1435\n",
       "Alcohol Present                                          4087\n",
       "Combination Contributed                                    47\n",
       "Combined Substance Present                                 92\n",
       "Illegal Drug Contributed                                  102\n",
       "Illegal Drug Present                                      259\n",
       "Medication Contributed                                     64\n",
       "Medication Present                                        117\n",
       "None Detected                                          122544\n",
       "Not Suspect Of Alcohol Use, Not Suspect Of Drug Use     25178\n",
       "Not Suspect Of Alcohol Use, Suspect Of Drug Use            40\n",
       "Not Suspect Of Alcohol Use, Unknown                        38\n",
       "Other                                                      59\n",
       "Suspect Of Alcohol Use, Not Suspect Of Drug Use           696\n",
       "Suspect Of Alcohol Use, Suspect Of Drug Use                54\n",
       "Suspect Of Alcohol Use, Unknown                            89\n",
       "Unknown                                                 11990\n",
       "Unknown, Not Suspect Of Drug Use                           73\n",
       "Unknown, Suspect Of Drug Use                                6\n",
       "Unknown, Unknown                                         3151\n",
       "NaN                                                     31320\n",
       "Name: count, dtype: int64"
      ]
     },
     "execution_count": 44,
     "metadata": {},
     "output_type": "execute_result"
    }
   ],
   "source": [
    "# Driver Substance Abuse\n",
    "df_drivers['Driver Substance Abuse'] = df_drivers['Driver Substance Abuse'].str.title()\n",
    "df_drivers['Driver Substance Abuse'].value_counts(dropna=False).sort_index()"
   ]
  },
  {
   "cell_type": "code",
   "execution_count": 45,
   "id": "9907fd1d-c434-435c-9d74-64ec1e974646",
   "metadata": {},
   "outputs": [],
   "source": [
    "driver_substance_abuse_dict = {}\n",
    "for driver_substance_abuse in df_drivers['Driver Substance Abuse'].drop_duplicates().sort_values():\n",
    "    driver_substance_abuse_dict[driver_substance_abuse] = driver_substance_abuse"
   ]
  },
  {
   "cell_type": "code",
   "execution_count": 46,
   "id": "aa996304-5f64-496f-9e7a-2c02dea88308",
   "metadata": {},
   "outputs": [],
   "source": [
    "driver_substance_abuse_mapping = {\n",
    "    'Alcohol Contributed': (1,0),\n",
    "    'Alcohol Present': (1,0),\n",
    "    'Combination Contributed': (1,1),\n",
    "    'Combined Substance Present': (1,1),\n",
    "    'Illegal Drug Contributed': (0,1),\n",
    "    'Illegal Drug Present': (0,1),\n",
    "    'Medication Contributed': (0,1),\n",
    "    'Medication Present': (0,1),\n",
    "    'None Detected': (0,0),\n",
    "    'Not Suspect Of Alcohol Use, Not Suspect Of Drug Use': (0,0),\n",
    "    'Not Suspect Of Alcohol Use, Suspect Of Drug Use': (0,1),\n",
    "    'Not Suspect Of Alcohol Use, Unknown': (0,np.nan),\n",
    "    'Other': (np.nan,np.nan),\n",
    "    'Suspect Of Alcohol Use, Not Suspect Of Drug Use': (1,0),\n",
    "    'Suspect Of Alcohol Use, Suspect Of Drug Use': (1,1),\n",
    "    'Suspect Of Alcohol Use, Unknown': (1,0),\n",
    "    'Unknown': (np.nan,np.nan),\n",
    "    'Unknown, Not Suspect Of Drug Use': (np.nan,0),\n",
    "    'Unknown, Suspect Of Drug Use': (np.nan,1),\n",
    "    'Unknown, Unknown': (np.nan,np.nan),\n",
    "}"
   ]
  },
  {
   "cell_type": "code",
   "execution_count": 47,
   "id": "6744fdf4-1c58-492d-9c65-1f24dc9de0cf",
   "metadata": {},
   "outputs": [],
   "source": [
    "driver_substance_abuse_dict.update(driver_substance_abuse_mapping)"
   ]
  },
  {
   "cell_type": "code",
   "execution_count": 48,
   "id": "ac24fc0d-b750-4973-87cf-3afd2369aa10",
   "metadata": {},
   "outputs": [
    {
     "data": {
      "text/plain": [
       "Driver Alcohol Abuse  Driver Drug Abuse\n",
       "0.0                   0.0                  147722\n",
       "1.0                   0.0                    6307\n",
       "0.0                   1.0                     582\n",
       "1.0                   1.0                     193\n",
       "Name: count, dtype: int64"
      ]
     },
     "execution_count": 48,
     "metadata": {},
     "output_type": "execute_result"
    }
   ],
   "source": [
    "df_drivers['Driver Alcohol Abuse'] = df_drivers['Driver Substance Abuse'].apply(lambda x:driver_substance_abuse_dict[x][0] if isinstance(x, str) else x)\n",
    "df_drivers['Driver Drug Abuse'] = df_drivers['Driver Substance Abuse'].apply(lambda x:driver_substance_abuse_dict[x][1] if isinstance(x, str) else x)\n",
    "\n",
    "# drop 'Driver Substance Abuse' column\n",
    "df_drivers = df_drivers.drop('Driver Substance Abuse', axis=1)\n",
    "df_drivers.loc[:, ['Driver Alcohol Abuse', 'Driver Drug Abuse']].value_counts()"
   ]
  },
  {
   "cell_type": "markdown",
   "id": "e731a654-d6ad-46dd-97e5-0e1a49cf7d87",
   "metadata": {},
   "source": [
    "Where the driver is suspect of alcohol abuse, ***'Driver Alcohol Abuse'*** is *1*; when not suspect, *0*. The same applies for ***'Driver Drug Abuse'***, and unknown values for either column are converted to *NaN*."
   ]
  },
  {
   "cell_type": "code",
   "execution_count": 50,
   "id": "1ced9d25-8947-438f-b794-53e94ceace3f",
   "metadata": {
    "scrolled": true
   },
   "outputs": [
    {
     "data": {
      "text/plain": [
       "Drivers License State\n",
       "AB         7\n",
       "AK        23\n",
       "AL        71\n",
       "AR        23\n",
       "AS         3\n",
       "       ...  \n",
       "WV       523\n",
       "WY         9\n",
       "XX      1851\n",
       "YT         6\n",
       "NaN    13317\n",
       "Name: count, Length: 82, dtype: int64"
      ]
     },
     "execution_count": 50,
     "metadata": {},
     "output_type": "execute_result"
    }
   ],
   "source": [
    "# Drivers License State\n",
    "df_drivers['Drivers License State'].value_counts(dropna=False).sort_index()"
   ]
  },
  {
   "cell_type": "markdown",
   "id": "363acc28-ff78-49eb-a553-df001696335a",
   "metadata": {},
   "source": [
    "***'Drivers License State'*** contains mostly US states, but also includes Canada and Mexico. We will create two columns for license state and license country. "
   ]
  },
  {
   "cell_type": "code",
   "execution_count": 52,
   "id": "a959369d-b026-4019-a57f-808700a530ad",
   "metadata": {},
   "outputs": [],
   "source": [
    "license_state_dict = {}\n",
    "for license_state in df_drivers['Drivers License State'].drop_duplicates().sort_values():\n",
    "    license_state_dict[license_state] = license_state"
   ]
  },
  {
   "cell_type": "code",
   "execution_count": 53,
   "id": "91e4b8c2-95c1-4484-83b6-f8852beeccd7",
   "metadata": {},
   "outputs": [],
   "source": [
    "license_state_mapping = {\n",
    "    'AB': ('AB', 'CA'),\n",
    "    'AK': ('AK', 'US'),\n",
    "    'AL': ('AL', 'US'),\n",
    "    'AR': ('AR', 'US'),\n",
    "    'AS': ('AS', 'US'),\n",
    "    'AZ': ('AZ', 'US'),\n",
    "    'BC': ('BC', 'CA'),\n",
    "    'CA': (np.nan, 'CA'),\n",
    "    'CA-ON': ('ON', 'CA'),\n",
    "    'CA-QC': ('QC', 'CA'),\n",
    "    'CO': ('CO', 'US'),\n",
    "    'CT': ('CT', 'US'),\n",
    "    'DC': ('DC', 'US'),\n",
    "    'DE': ('DE', 'US'),\n",
    "    'FL': ('FL', 'US'),\n",
    "    'FM': (np.nan, 'FM'),    # Federal States of Micronesia assumed\n",
    "    'GA': ('GA', 'US'),\n",
    "    'GU': ('GU', 'US'),\n",
    "    'HI': ('HI', 'US'),\n",
    "    'IA': ('IA', 'US'),\n",
    "    'ID': ('ID', 'US'),\n",
    "    'IL': ('IL', 'US'),\n",
    "    'IN': ('IN', 'US'),\n",
    "    'IT': ('IT', np.nan),\n",
    "    'KS': ('KS', 'US'),\n",
    "    'KY': ('KY', 'US'),\n",
    "    'LA': ('LA', 'US'),\n",
    "    'MA': ('MA', 'US'),\n",
    "    'MB': ('MB', 'CA'),\n",
    "    'MD': ('MD', 'US'),\n",
    "    'ME': ('ME', 'US'),\n",
    "    'MH': ('MH', 'US'),\n",
    "    'MI': ('MI', 'US'),\n",
    "    'MN': ('MN', 'US'),\n",
    "    'MO': ('MO', 'US'),\n",
    "    'MP': ('MP', 'US'),\n",
    "    'MS': ('MS', 'US'),\n",
    "    'MT': ('MT', 'US'),\n",
    "    'MX-BCN': ('BC', 'MX'),    # Baja California\n",
    "    'MX-CMX': ('DF', 'MX'),    # Mexico City\n",
    "    'MX-GRO': ('GE', 'MX'),    # Guerrero\n",
    "    'MX-MEX': ('EM', 'MX'),   # State of Mexico\n",
    "    'MX-ROO': ('QI', 'MX'),   # Quintana Roo\n",
    "    'NB': ('NB', 'CA'),\n",
    "    'NC': ('NC', 'US'),\n",
    "    'ND': ('ND', 'US'),\n",
    "    'NE': ('NE', 'US'),\n",
    "    'NF': ('NL', 'CA'),\n",
    "    'NH': ('NH', 'US'),\n",
    "    'NJ': ('NJ', 'US'),\n",
    "    'NL': ('NL', 'CA'),\n",
    "    'NM': ('NM', 'US'),\n",
    "    'NS': ('NS', 'CA'),\n",
    "    'NT': ('NT', 'CA'),\n",
    "    'NV': ('NV', 'US'),\n",
    "    'NY': ('NY', 'US'),\n",
    "    'OH': ('OH', 'US'),\n",
    "    'OK': ('OK', 'US'),\n",
    "    'ON': ('ON', 'CA'),\n",
    "    'OR': ('OR', 'US'),\n",
    "    'PA': ('PA', 'US'),\n",
    "    'PR': ('PR', 'US'),\n",
    "    'QC': ('QC', 'CA'),\n",
    "    'RI': ('RI', 'US'),\n",
    "    'SC': ('SC', 'US'),\n",
    "    'SD': ('SD', 'US'),\n",
    "    'SK': ('SK', 'CA'),\n",
    "    'TN': ('TN', 'US'),\n",
    "    'TX': ('TX', 'US'),\n",
    "    'UM': ('UM', 'US'),\n",
    "    'US': (np.nan, 'US'),\n",
    "    'UT': ('UT', 'US'),\n",
    "    'VA': ('VA', 'US'),\n",
    "    'VI': ('VI', 'US'),\n",
    "    'VT': ('VT', 'US'),\n",
    "    'WA': ('WA', 'US'),\n",
    "    'WI': ('WI', 'US'),\n",
    "    'WV': ('WV', 'US'),\n",
    "    'WY': ('WY', 'US'),\n",
    "    'XX': (np.nan, np.nan),\n",
    "    'YT': ('YT', 'CA')\n",
    "}"
   ]
  },
  {
   "cell_type": "code",
   "execution_count": 54,
   "id": "6cc2d653-262e-40dc-affb-e2e7cc2275b4",
   "metadata": {},
   "outputs": [],
   "source": [
    "license_state_dict.update(license_state_mapping)"
   ]
  },
  {
   "cell_type": "code",
   "execution_count": 55,
   "id": "735e853e-7945-4588-b262-75180dd628d1",
   "metadata": {
    "scrolled": true
   },
   "outputs": [],
   "source": [
    "df_drivers['Drivers License Country'] = df_drivers['Drivers License State'].apply(lambda x: license_state_dict[x][1] if isinstance(x, str) else x)\n",
    "df_drivers['Drivers License State'] = df_drivers['Drivers License State'].apply(lambda x: license_state_dict[x][0] if isinstance(x, str) else x)"
   ]
  },
  {
   "cell_type": "markdown",
   "id": "c45c11bf-85da-4074-9fb8-a3c9f9b66253",
   "metadata": {},
   "source": [
    "We will separate the ***'Vehicle Body Type'*** column into two separate columns for better understanding and convenienece:  ***'Vehicle Class'*** and ***'Vehicle Body Type'***. For example, *'(Sport) Utility Vehicle'* and *'Sport Utility Vehicle'* has *' Sport Utility Vehicle (SUV)'* body type and *'Passenger'* class. "
   ]
  },
  {
   "cell_type": "code",
   "execution_count": 57,
   "id": "2faa45bc-73b7-4af8-815d-5408cfae362e",
   "metadata": {},
   "outputs": [
    {
     "data": {
      "text/plain": [
       "Vehicle Body Type\n",
       "(Sport) Utility Vehicle                                       15990\n",
       "All Terrain Vehicle (Atv)                                       119\n",
       "All-Terrain Vehicle/All-Terrain Cycle (Atv/Atc)                  34\n",
       "Ambulance/Emergency                                             466\n",
       "Ambulance/Non Emergency                                         185\n",
       "Autocycle                                                        45\n",
       "Bus - Cross Country                                               3\n",
       "Bus - Mini                                                       16\n",
       "Bus - Other Type                                                 25\n",
       "Bus - School                                                    669\n",
       "Bus - Transit                                                   727\n",
       "Cargo Van/Light Truck 2 Axles (Over 10,000Lbs (4,536 Kg))      1858\n",
       "Construction Equipment (Backhoe, Bulldozer, Etc.)                18\n",
       "Cross Country Bus                                                31\n",
       "Farm Equipment (Tractor, Combine Harvester, Etc.)                 3\n",
       "Farm Vehicle                                                     21\n",
       "Fire Vehicle/Emergency                                          437\n",
       "Fire Vehicle/Non Emergency                                      296\n",
       "Golf Cart                                                         1\n",
       "Limousine                                                        16\n",
       "Low Speed Vehicle                                                38\n",
       "Medium/Heavy Trucks 3 Axles (Over 10,000Lbs (4,536Kg))         1469\n",
       "Moped                                                            87\n",
       "Moped Or Motorized Bicycle                                       44\n",
       "Motorcycle                                                      889\n",
       "Motorcycle - 2 Wheeled                                          153\n",
       "Motorcycle - 3 Wheeled                                            3\n",
       "Other                                                          1813\n",
       "Other Bus                                                       418\n",
       "Other Light Trucks (10,000Lbs (4,536Kg) Or Less)               1909\n",
       "Other Trucks                                                    376\n",
       "Passenger Car                                                137979\n",
       "Pickup                                                         1511\n",
       "Pickup Truck                                                   6787\n",
       "Police Vehicle/Emergency                                       1497\n",
       "Police Vehicle/Non Emergency                                   2119\n",
       "Recreational Off-Highway Vehicles (Rov)                           7\n",
       "Recreational Vehicle                                            197\n",
       "School Bus                                                     2975\n",
       "Single-Unit Truck                                               232\n",
       "Snowmobile                                                      129\n",
       "Sport Utility Vehicle                                          4706\n",
       "Station Wagon                                                   876\n",
       "Transit Bus                                                    3642\n",
       "Truck Tractor                                                   612\n",
       "Unknown                                                        1181\n",
       "Van                                                            4958\n",
       "Van - Cargo                                                     186\n",
       "Van - Passenger (&Lt;9 Seats)                                   658\n",
       "Van - Passenger (15 Seats)                                        3\n",
       "Van - Passenger (9 Or 12 Seats)                                   3\n",
       "NaN                                                            3024\n",
       "Name: count, dtype: int64"
      ]
     },
     "execution_count": 57,
     "metadata": {},
     "output_type": "execute_result"
    }
   ],
   "source": [
    "# Vehicle Body Type \n",
    "df_drivers['Vehicle Body Type'] = df_drivers['Vehicle Body Type'].str.title()\n",
    "df_drivers['Vehicle Body Type'].value_counts(dropna=False).sort_index()"
   ]
  },
  {
   "cell_type": "code",
   "execution_count": 58,
   "id": "4765efb4-6973-4c0e-ba97-1dd17a8ec556",
   "metadata": {},
   "outputs": [],
   "source": [
    "vehicle_body_type_mapping = {\n",
    "    '(Sport) Utility Vehicle': ('Sport Utility Vehicle (SUV)', 'Passenger'),\n",
    "    'All Terrain Vehicle (Atv)': ('All-Terrain Vehicle/All-Terrain Cycle (ATV/ATC)', 'Off-Road'),\n",
    "    'All-Terrain Vehicle/All-Terrain Cycle (Atv/Atc)': ('All-Terrain Vehicle/All-Terrain Cycle (ATV/ATC)', 'Off-Road'),\n",
    "    'Ambulance/Emergency': ('Ambulance', 'Emergency'),\n",
    "    'Ambulance/Non Emergency': ('Ambulance (Non-Emergency)', 'Emergency'),\n",
    "    'Autocycle': ('Autocycle', 'Passenger'),\n",
    "    'Bus - Cross Country': ('Cross Country Bus', 'Bus'),\n",
    "    'Bus - Mini': ('Minibus', 'Bus'),\n",
    "    'Bus - Other Type': ('Other', 'Bus'),\n",
    "    'Bus - School': ('School Bus', 'Bus'),\n",
    "    'Bus - Transit': ('Transit Bus', 'Bus'),\n",
    "    'Cargo Van': ('Cargo Van/Light Truck 2 Axles (Over 10,000Lbs (4,536 Kg))', 'Truck'),\n",
    "    'Cargo Van/Light Truck 2 Axles (Over 10,000Lbs (4,536 Kg))': ('Cargo Van/Light Truck 2 Axles (Over 10,000Lbs (4,536 Kg))', 'Truck'),\n",
    "    'Construction Equipment (Backhoe, Bulldozer, Etc.)': ('Construction Equipment (Backhoe, Bulldozer, Etc.)', 'Off-Road'),\n",
    "    'Cross Country Bus': ('Cross Country Bus', 'Bus'),\n",
    "    'Farm Equipment (Tractor, Combine Harvester, Etc.)': ('Farm Equipment (Tractor, Combine Harvester, Etc.)', 'Off-Road'),\n",
    "    'Farm Vehicle': ('Farm Vehicle', 'Off-Road'),\n",
    "    'Fire Vehicle/Emergency': ('Fire Vehicle', 'Emergency'),\n",
    "    'Fire Vehicle/Non Emergency': ('Fire Vehicle (Non-Emergency)', 'Emergency'),\n",
    "    'Golf Cart': ('Golf Cart', 'Recreational'),\n",
    "    'Limousine': ('Limousine', 'Passenger'),\n",
    "    'Low Speed Vehicle': ('Low Speed Vehicle (LSV)', 'Passenger'),\n",
    "    'Medium/Heavy Trucks 3 Axles (Over 10,000Lbs (4,536Kg))': ('Medium/Heavy Trucks 3 Axles (Over 10,000Lbs (4,536Kg))', 'Truck'),\n",
    "    'Moped': ('Moped Or Motorized Bicycle', 'Passenger'),\n",
    "    'Moped Or Motorized Bicycle': ('Moped Or Motorized Bicycle', 'Passenger'),\n",
    "    'Motorcycle': ('Motorcycle', 'Passenger'),\n",
    "    'Motorcycle - 2 Wheeled': ('Motorcycle', 'Passenger'),\n",
    "    'Motorcycle - 3 Wheeled': ('Motorcycle (3 Wheel)', 'Passenger'),\n",
    "    'Other': (np.nan, np.nan),\n",
    "    'Other Bus': ('Other', 'Bus'),\n",
    "    'Other Light Trucks (10,000Lbs (4,536Kg) Or Less)': ('Other Light Trucks (10,000Lbs (4,536Kg) Or Less)', 'Truck'),\n",
    "    'Other Trucks': ('Other', 'Truck'),\n",
    "    'Passenger Car': ('Passenger Car', 'Passenger'),\n",
    "    'Pickup': ('Pickup Truck', 'Passenger'),\n",
    "    'Pickup Truck': ('Pickup Truck', 'Passenger'),\n",
    "    'Police Vehicle/Emergency': ('Police Vehicle', 'Emergency'),\n",
    "    'Police Vehicle/Non Emergency': ('Police Vehicle (Non-Emergency)', 'Emergency'),\n",
    "    'Recreational Off-Highway Vehicles (Rov)': ('Recreational Off-Highway Vehicles (ROV)', 'Recreational'),\n",
    "    'Recreational Vehicle': ('Recreational Vehicle (RV)', 'Recreational'),\n",
    "    'School Bus': ('School Bus', 'Bus'),\n",
    "    'Single-Unit Truck': ('Single-Unit Truck', 'Truck'),\n",
    "    'Snowmobile': ('Snowmobile', 'Recreational'),\n",
    "    'Sport Utility Vehicle': ('Sport Utility Vehicle (SUV)', 'Passenger'),\n",
    "    'Station Wagon': ('Station Wagon', 'Passenger'),\n",
    "    'Transit Bus': ('Transit Bus', 'Bus'),\n",
    "    'Truck Tractor': ('Truck Tractor', 'Truck'),\n",
    "    'Unknown': (np.nan, np.nan),\n",
    "    'Van': ('Van', 'Passenger'),\n",
    "    'Van - Cargo': ('Cargo Van', 'Truck'),\n",
    "    'Van - Passenger (&Lt;9 Seats)': ('Passenger Van (Less Than 9 Seats)', 'Passenger'),\n",
    "    'Van - Passenger (15 Seats)': ('Passenger Van (15 Seats)', 'Passenger'),\n",
    "    'Van - Passenger (9 Or 12 Seats)': ('Passenger Van (9 Or 12 Seats)', 'Passenger')\n",
    "}"
   ]
  },
  {
   "cell_type": "code",
   "execution_count": 59,
   "id": "deb36d3a-b5b7-423e-89cc-e89bd2dbf4df",
   "metadata": {},
   "outputs": [],
   "source": [
    "df_drivers['Vehicle Class'] = df_drivers['Vehicle Body Type'].apply(lambda x: vehicle_body_type_mapping[x][1] if isinstance(x, str) else x)\n",
    "df_drivers['Vehicle Body Type'] = df_drivers['Vehicle Body Type'].apply(lambda x: vehicle_body_type_mapping[x][0] if isinstance(x, str) else x)"
   ]
  },
  {
   "cell_type": "code",
   "execution_count": 60,
   "id": "afbeef9c-e455-43e2-a0c3-666525b851ef",
   "metadata": {},
   "outputs": [
    {
     "data": {
      "text/plain": [
       "Vehicle Class  Vehicle Body Type                                        \n",
       "Bus            Cross Country Bus                                                34\n",
       "               Minibus                                                          16\n",
       "               Other                                                           443\n",
       "               School Bus                                                     3644\n",
       "               Transit Bus                                                    4369\n",
       "Emergency      Ambulance                                                       466\n",
       "               Ambulance (Non-Emergency)                                       185\n",
       "               Fire Vehicle                                                    437\n",
       "               Fire Vehicle (Non-Emergency)                                    296\n",
       "               Police Vehicle                                                 1497\n",
       "               Police Vehicle (Non-Emergency)                                 2119\n",
       "Off-Road       All-Terrain Vehicle/All-Terrain Cycle (ATV/ATC)                 153\n",
       "               Construction Equipment (Backhoe, Bulldozer, Etc.)                18\n",
       "               Farm Equipment (Tractor, Combine Harvester, Etc.)                 3\n",
       "               Farm Vehicle                                                     21\n",
       "Passenger      Autocycle                                                        45\n",
       "               Limousine                                                        16\n",
       "               Low Speed Vehicle (LSV)                                          38\n",
       "               Moped Or Motorized Bicycle                                      131\n",
       "               Motorcycle                                                     1042\n",
       "               Motorcycle (3 Wheel)                                              3\n",
       "               Passenger Car                                                137979\n",
       "               Passenger Van (15 Seats)                                          3\n",
       "               Passenger Van (9 Or 12 Seats)                                     3\n",
       "               Passenger Van (Less Than 9 Seats)                               658\n",
       "               Pickup Truck                                                   8298\n",
       "               Sport Utility Vehicle (SUV)                                   20696\n",
       "               Station Wagon                                                   876\n",
       "               Van                                                            4958\n",
       "Recreational   Golf Cart                                                         1\n",
       "               Recreational Off-Highway Vehicles (ROV)                           7\n",
       "               Recreational Vehicle (RV)                                       197\n",
       "               Snowmobile                                                      129\n",
       "Truck          Cargo Van                                                       186\n",
       "               Cargo Van/Light Truck 2 Axles (Over 10,000Lbs (4,536 Kg))      1858\n",
       "               Medium/Heavy Trucks 3 Axles (Over 10,000Lbs (4,536Kg))         1469\n",
       "               Other                                                           376\n",
       "               Other Light Trucks (10,000Lbs (4,536Kg) Or Less)               1909\n",
       "               Single-Unit Truck                                               232\n",
       "               Truck Tractor                                                   612\n",
       "Name: count, dtype: int64"
      ]
     },
     "execution_count": 60,
     "metadata": {},
     "output_type": "execute_result"
    }
   ],
   "source": [
    "df_drivers.loc[:, ['Vehicle Class','Vehicle Body Type']].value_counts().sort_index()"
   ]
  },
  {
   "cell_type": "code",
   "execution_count": 61,
   "id": "cab484e3-e305-41e1-8264-67df80d7bacd",
   "metadata": {},
   "outputs": [
    {
     "data": {
      "text/plain": [
       "12                                           N/A, Wet\n",
       "16                           Icy Or Snow-Covered, N/A\n",
       "25                                           N/A, Wet\n",
       "29           N/A, Road Under Construction/Maintenance\n",
       "33                                           N/A, Wet\n",
       "39              Backup Due To Regular Congestion, N/A\n",
       "43                                    Rain, Snow, Wet\n",
       "53                                           N/A, Wet\n",
       "56     N/A, Vision Obstruction (Incl. Blinded By Sun)\n",
       "67                                    Rain, Snow, Wet\n",
       "69                                           N/A, Wet\n",
       "76                                    Rain, Snow, Wet\n",
       "91                                    Rain, Snow, Wet\n",
       "98                     Backup Due To Prior Crash, N/A\n",
       "107                                       Animal, N/A\n",
       "108                                          N/A, Wet\n",
       "122                                          N/A, Wet\n",
       "133                                   Rain, Snow, Wet\n",
       "134                     Sleet, Hail, Freez. Rain, Wet\n",
       "136                                   Rain, Snow, Wet\n",
       "Name: Circumstance, dtype: object"
      ]
     },
     "execution_count": 61,
     "metadata": {},
     "output_type": "execute_result"
    }
   ],
   "source": [
    "# Circumstance\n",
    "df_drivers['Circumstance'] = df_drivers['Circumstance'].str.title()\n",
    "df_drivers[~df_drivers['Circumstance'].isnull()]['Circumstance'].head(20)"
   ]
  },
  {
   "cell_type": "markdown",
   "id": "e3ad97a2-cbfa-478b-a263-4c9ab29118d8",
   "metadata": {},
   "source": [
    "For ***'Circumstance'***, each row can contain multiple circumstances, which are separated by commas. However, some values also contain commas, such as *'Sleet, Hail, Freez. Rain'*. Since the column allows multiple choice, we will first split ***'Circumstance'*** by commas to get a general idea of each value."
   ]
  },
  {
   "cell_type": "code",
   "execution_count": 63,
   "id": "d24e7425-2e4f-48cd-84c1-dad3c867da8d",
   "metadata": {
    "scrolled": true
   },
   "outputs": [
    {
     "data": {
      "text/plain": [
       "107     0                                                     Animal\n",
       "571     0                       Backup Due To Non-Recurring Incident\n",
       "98      0                                  Backup Due To Prior Crash\n",
       "39      0                           Backup Due To Regular Congestion\n",
       "20191   0                                               Blowing Sand\n",
       "470     3                                                      Bumps\n",
       "172065  3                                                   Careless\n",
       "357     0                                      Debris Or Obstruction\n",
       "20191   2                                                       Dirt\n",
       "172617  0                               Disregard Officer Directions\n",
       "172335  0                            Disregarded Other Road Markings\n",
       "172463  0                             Disregarded Other Traffic Sign\n",
       "172282  6                                                        Etc\n",
       "172055  0                              Failed To Keep In Proper Lane\n",
       "173076  0                              Failed To Stop For School Bus\n",
       "172065  0                               Failed To Yield Right-Of-Way\n",
       "172060  0                                       Followed Too Closely\n",
       "134     2                                                Freez. Rain\n",
       "        1                                                       Hail\n",
       "7824    6                                                       High\n",
       "470     2                                                      Holes\n",
       "16      0                                        Icy Or Snow-Covered\n",
       "172692  0                                           Improper Backing\n",
       "172081  0                                           Improper Passing\n",
       "172065  1                                              Improper Turn\n",
       "172282  3                                              Motor Vehicle\n",
       "12      0                                                        N/A\n",
       "172065  4                                                  Negligent\n",
       "4290    1                                           Non-Highway Work\n",
       "172282  5                                    Non-Motorist In Roadway\n",
       "        4                                                     Object\n",
       "172065  2                      Operated Motor Vehicle In Inattentive\n",
       "172147  5    Operated Motor Vehicle In Reckless Or Aggressive Manner\n",
       "172065  5                                          Or Erratic Manner\n",
       "172056  0                                      Other Improper Action\n",
       "172094  0                              Over-Correcting/Over-Steering\n",
       "1801    1                                    Physical Obstruction(S)\n",
       "43      0                                                       Rain\n",
       "172055  1                                            Ran Off Roadway\n",
       "172106  0                                              Ran Red Light\n",
       "172337  1                                              Ran Stop Sign\n",
       "29      1                        Road Under Construction/Maintenance\n",
       "470     1                                                       Ruts\n",
       "1687    0                                          Severe Crosswinds\n",
       "7824    4                                              Shoulders Low\n",
       "134     0                                                      Sleet\n",
       "172282  2                                           Slippery Surface\n",
       "1046    0                                                       Smog\n",
       "        1                                                      Smoke\n",
       "43      1                                                       Snow\n",
       "7824    5                                                       Soft\n",
       "20191   1                                                       Soil\n",
       "172282  1                             Swerved Or Avoided Due To Wind\n",
       "2686    1                                   Toll Booth/Plaza Related\n",
       "172060  1                                    Too Fast For Conditions\n",
       "1687    1                         Traffic Control Device Inoperative\n",
       "17065   2                                    Travel-Polished Surface\n",
       "641     1                              V Exhaust System|R Other Road\n",
       "202     1                             V Wipers|W Other Environmental\n",
       "56      1                  Vision Obstruction (Incl. Blinded By Sun)\n",
       "12      1                                                        Wet\n",
       "17065   1                                                       Worn\n",
       "172081  5                                                 Wrong Side\n",
       "172352  0                                                  Wrong Way\n",
       "dtype: object"
      ]
     },
     "execution_count": 63,
     "metadata": {},
     "output_type": "execute_result"
    }
   ],
   "source": [
    "pd.set_option('display.max.rows', None)\n",
    "pd.set_option('display.max_colwidth', None)\n",
    "# Get all valid responses for 'Circumstance' by first splitting by commas\n",
    "df_drivers['Circumstance'].drop_duplicates().str.split(', ', expand=True).stack().drop_duplicates().sort_values()"
   ]
  },
  {
   "cell_type": "markdown",
   "id": "75196364-85ee-4f42-a7b8-147780b28914",
   "metadata": {},
   "source": [
    "Cross-checking each value and confirming which values contain commas, we can type a manual list with all valid circumstances."
   ]
  },
  {
   "cell_type": "code",
   "execution_count": 65,
   "id": "b2de4210-adc7-4d2c-ab03-f3159848bfc5",
   "metadata": {},
   "outputs": [],
   "source": [
    "pd.reset_option('display.max.rows')\n",
    "pd.reset_option('display.max_colwidth')\n",
    "# all valid circumstances \n",
    "circumstance_list = [\n",
    "    'Animal',\n",
    "    'Backup Due To Non-Recurring Incident',\n",
    "    'Backup Due To Prior Crash',\n",
    "    'Backup Due To Regular Congestion',\n",
    "    'Blowing Sand, Soil, Dirt',\n",
    "    'Debris Or Obstruction',\n",
    "    'Disregard Officer Directions',\n",
    "    'Disregarded Other Road Markings',\n",
    "    'Disregarded Other Traffic Sign',\n",
    "    'Failed To Keep In Proper Lane',\n",
    "    'Failed To Stop For School Bus',\n",
    "    'Failed To Yield Right-Of-Way',\n",
    "    'Followed Too Closely',\n",
    "    'Icy Or Snow-Covered',\n",
    "    'Improper Backing',\n",
    "    'Improper Passing',\n",
    "    'Improper Turn',\n",
    "    'N/A',\n",
    "    'Non-Highway Work',\n",
    "    'Operated Motor Vehicle In Inattentive, Careless, Negligent, Or Erratic Manner',\n",
    "    'Operated Motor Vehicle In Reckless Or Aggressive Manner',\n",
    "    'Other Improper Action',\n",
    "    'Over-Correcting/Over-Steering',\n",
    "    'Physical Obstruction(S)',\n",
    "    'Ran Off Roadway',\n",
    "    'Ran Red Light',\n",
    "    'Ran Stop Sign',\n",
    "    'Road Under Construction/Maintenance',\n",
    "    'Ruts, Holes, Bumps',\n",
    "    'Severe Crosswinds',\n",
    "    'Shoulders Low, Soft, High',\n",
    "    'Sleet, Hail, Freez. Rain',\n",
    "    'Smog, Smoke',\n",
    "    'Snow',\n",
    "    'Swerved Or Avoided Due To Wind, Slippery Surface, Motor Vehicle, Object, Non-Motorist In Roadway, Etc',\n",
    "    'Toll Booth/Plaza Related',\n",
    "    'Too Fast For Conditions',\n",
    "    'Traffic Control Device Inoperative',\n",
    "    'V Exhaust System|R Other Road',\n",
    "    'V Wipers|W Other Environmental',\n",
    "    'Vision Obstruction (Incl. Blinded By Sun)',\n",
    "    'Wet',\n",
    "    'Worn, Travel-Polished Surface',\n",
    "    'Wrong Side',\n",
    "    'Wrong Way',\n",
    "    'Rain'    #placed at end to prevent interefering with another value containing 'Freez. Rain'\n",
    "]"
   ]
  },
  {
   "cell_type": "code",
   "execution_count": 66,
   "id": "74ade885-4529-4138-baf2-f145c26a4103",
   "metadata": {},
   "outputs": [],
   "source": [
    "# convert circumstance list to dictionary for mapping\n",
    "circumstance_dict = {}\n",
    "circumstance_dict = {circumstance: circumstance for circumstance in circumstance_list}"
   ]
  },
  {
   "cell_type": "code",
   "execution_count": 67,
   "id": "d1fcf57c-99e7-4420-a2cd-6b099521c8c0",
   "metadata": {},
   "outputs": [],
   "source": [
    "circumstance_mapping = {\n",
    "    'Blowing Sand, Soil, Dirt': 'Blowing Sand, Soil, Dirt',\n",
    "    'Disregard Officer Directions': 'Disregarded Officer Directions',\n",
    "    'N/A': '',\n",
    "    'Operated Motor Vehicle In Inattentive, Careless, Negligent, Or Erratic Manner': 'Inattentive, Careless, Negligent Or Erratic Manner',\n",
    "    'Operated Motor Vehicle In Reckless Or Aggressive Manner': 'Reckless Or Aggressive Manner',\n",
    "    'Over-Correcting/Over-Steering': 'Over-Correcting Or Over-Steering',\n",
    "    'Physical Obstruction(S)': 'Physical Obstructions',\n",
    "    'Road Under Construction/Maintenance': 'Road Under Construction Or Maintenance',\n",
    "    'Ruts, Holes, Bumps': 'Ruts, Holes, Or Bumps',\n",
    "    'Shoulders Low, Soft, High': 'Shoulders Low, Soft, Or High',\n",
    "    'Sleet, Hail, Freez. Rain': 'Sleet, Hail, Or Freezing Rain',\n",
    "    'Smog, Smoke': 'Smog Or Smoke',\n",
    "    'Swerved Or Avoided Due To Wind, Slippery Surface, Motor Vehicle, Object, Non-Motorist In Roadway, Etc': 'Swerved Or Avoided Due To Hazards',\n",
    "    'Toll Booth/Plaza Related': 'Toll Booth Or Plaza Related',\n",
    "    'Too Fast For Conditions': 'Too Fast For Conditions',\n",
    "    'V Exhaust System|R Other Road': 'Vehicle Exhaust System Or Other Road',\n",
    "    'V Wipers|W Other Environmental': 'Vehicle Wipers With Other Environmental Factors',\n",
    "    'Vision Obstruction (Incl. Blinded By Sun)': 'Vision Obstruction (Sun Incl.)',\n",
    "    'Worn, Travel-Polished Surface': 'Worn Or Travel-Polished Surface',\n",
    "}"
   ]
  },
  {
   "cell_type": "code",
   "execution_count": 68,
   "id": "1d73ec07-fc90-4395-a9a5-0856fc1179c2",
   "metadata": {},
   "outputs": [],
   "source": [
    "circumstance_dict.update(circumstance_mapping)"
   ]
  },
  {
   "cell_type": "code",
   "execution_count": 69,
   "id": "147dcf69-5954-4cd2-ac17-97dba4d64674",
   "metadata": {},
   "outputs": [
    {
     "data": {
      "text/plain": [
       "165                                                  Animal\n",
       "972                    Backup Due To Non-Recurring Incident\n",
       "153                               Backup Due To Prior Crash\n",
       "54                         Backup Due To Regular Congestion\n",
       "37940                              Blowing Sand, Soil, Dirt\n",
       "605                                   Debris Or Obstruction\n",
       "330568                       Disregarded Officer Directions\n",
       "330035                      Disregarded Other Road Markings\n",
       "330258                       Disregarded Other Traffic Sign\n",
       "329611                        Failed To Keep In Proper Lane\n",
       "331307                        Failed To Stop For School Bus\n",
       "329630                         Failed To Yield Right-Of-Way\n",
       "329621                                 Followed Too Closely\n",
       "19                                      Icy Or Snow-Covered\n",
       "330674                                     Improper Backing\n",
       "329660                                     Improper Passing\n",
       "329633                                        Improper Turn\n",
       "329636    Inattentive, Careless, Negligent Or Erratic Ma...\n",
       "7697                                       Non-Highway Work\n",
       "329616                                Other Improper Action\n",
       "329683                     Over-Correcting Or Over-Steering\n",
       "3178                                  Physical Obstructions\n",
       "61                                                     Rain\n",
       "329614                                      Ran Off Roadway\n",
       "329700                                        Ran Red Light\n",
       "330051                                        Ran Stop Sign\n",
       "329763                        Reckless Or Aggressive Manner\n",
       "40                   Road Under Construction Or Maintenance\n",
       "798                                   Ruts, Holes, Or Bumps\n",
       "2950                                      Severe Crosswinds\n",
       "14060                          Shoulders Low, Soft, Or High\n",
       "208                           Sleet, Hail, Or Freezing Rain\n",
       "1829                                          Smog Or Smoke\n",
       "64                                                     Snow\n",
       "329967                    Swerved Or Avoided Due To Hazards\n",
       "4636                            Toll Booth Or Plaza Related\n",
       "329624                              Too Fast For Conditions\n",
       "2953                     Traffic Control Device Inoperative\n",
       "1109                   Vehicle Exhaust System Or Other Road\n",
       "327         Vehicle Wipers With Other Environmental Factors\n",
       "86                           Vision Obstruction (Sun Incl.)\n",
       "14                                                      Wet\n",
       "31918                       Worn Or Travel-Polished Surface\n",
       "329666                                           Wrong Side\n",
       "330072                                            Wrong Way\n",
       "0                                                       NaN\n",
       "Name: Circumstance, dtype: object"
      ]
     },
     "execution_count": 69,
     "metadata": {},
     "output_type": "execute_result"
    }
   ],
   "source": [
    "# following code block will first replace old values in column with values in circumstance_dict,\n",
    "# then explode each value into individual rows, essentially converting from wide to long format.\n",
    "import re\n",
    "\n",
    "# replace according to circumstance_mapping for more concise and consistent wording \n",
    "pattern = re.compile('|'.join(re.escape(circumstance) for circumstance in circumstance_dict.keys()))\n",
    "df_drivers['Circumstance'] = df_drivers['Circumstance'].apply(lambda x: pattern.sub(lambda m: circumstance_dict[m.group(0)], x) if isinstance(x, str) else x)\n",
    "\n",
    "# separate all rows by values in circumstance_list, then explode into individual rows\n",
    "pattern = r'|'.join(re.escape(circumstance) for circumstance in sorted(circumstance_dict.values(), key=len, reverse=True))\n",
    "regex = re.compile(pattern)\n",
    "df_drivers['Circumstance'] = df_drivers['Circumstance'].apply(lambda x: regex.findall(x) if isinstance(x, str) else x)\n",
    "df_drivers = df_drivers.explode('Circumstance').reset_index(drop=True)\n",
    "df_drivers['Circumstance'] = df_drivers['Circumstance'].replace('', np.nan)    # all empty rows converted to np.nan after exploded\n",
    "df_drivers['Circumstance'].drop_duplicates().sort_values()"
   ]
  },
  {
   "cell_type": "markdown",
   "id": "6b50b10e-1ddc-4efc-8914-6f347662e9be",
   "metadata": {},
   "source": [
    "## Load"
   ]
  },
  {
   "cell_type": "code",
   "execution_count": 71,
   "id": "3a3e44fa-a324-4b3a-a9aa-d65dd14ba5eb",
   "metadata": {},
   "outputs": [
    {
     "data": {
      "text/plain": [
       "Report Number                            object\n",
       "Local Case Number                        object\n",
       "Agency Name                              object\n",
       "ACRS Report Type                         object\n",
       "Crash Date/Time                  datetime64[ns]\n",
       "Route Type                               object\n",
       "Road Name                                object\n",
       "Cross-Street Name                        object\n",
       "Off-Road Description                     object\n",
       "Municipality                             object\n",
       "Related Non-Motorist                     object\n",
       "Collision Type                           object\n",
       "Weather                                  object\n",
       "Surface Condition                        object\n",
       "Light                                    object\n",
       "Traffic Control                          object\n",
       "Non-Motorist Substance Abuse             object\n",
       "Person ID                                object\n",
       "Driver At Fault                          object\n",
       "Injury Severity                          object\n",
       "Circumstance                             object\n",
       "Driver Distracted By                     object\n",
       "Drivers License State                    object\n",
       "Vehicle ID                               object\n",
       "Vehicle Damage Extent                    object\n",
       "Vehicle First Impact Location            object\n",
       "Vehicle Body Type                        object\n",
       "Vehicle Movement                         object\n",
       "Vehicle Going Dir                        object\n",
       "Speed Limit                              object\n",
       "Driverless Vehicle                       object\n",
       "Parked Vehicle                           object\n",
       "Vehicle Year                              int64\n",
       "Vehicle Make                             object\n",
       "Vehicle Model                            object\n",
       "Latitude                                float64\n",
       "Longitude                               float64\n",
       "Location                                 object\n",
       "Driver Alcohol Abuse                    float64\n",
       "Driver Drug Abuse                       float64\n",
       "Drivers License Country                  object\n",
       "Vehicle Class                            object\n",
       "dtype: object"
      ]
     },
     "execution_count": 71,
     "metadata": {},
     "output_type": "execute_result"
    }
   ],
   "source": [
    "df_drivers.dtypes"
   ]
  },
  {
   "cell_type": "code",
   "execution_count": 72,
   "id": "0f168f6f-57cd-4cda-b325-2fae0d5e1ffa",
   "metadata": {},
   "outputs": [
    {
     "name": "stdout",
     "output_type": "stream",
     "text": [
      "Number of Reports: 113505\n",
      "Number of Individuals: 201441\n",
      "Total Number of Circumstances: 376061\n"
     ]
    }
   ],
   "source": [
    "print('Number of Reports:', df_drivers['Report Number'].nunique())\n",
    "print('Number of Individuals:', df_drivers['Person ID'].nunique())\n",
    "print('Total Number of Circumstances:', df_drivers.shape[0])"
   ]
  },
  {
   "cell_type": "markdown",
   "id": "6f96a4e6-98a7-480f-8dda-d79dac699af8",
   "metadata": {},
   "source": [
    "***'Person ID'*** is unique for each individual and ***'Report Number'*** is unique for each crash. Since the dataframe has been blown up for each value in ***'Circumstance'***, the total amount of rows now represent the total number of each individual circumstance.\n",
    "<br>\n",
    "<br>\n",
    "We will create a new dataframe with interesting data for data analysis and export to csv files. One dataframe will include rows with all circumstances exploded while the other will only include one row for each individual. "
   ]
  },
  {
   "cell_type": "code",
   "execution_count": 74,
   "id": "f3d1e2c9-17f2-41d6-a010-e2813fda2fa0",
   "metadata": {},
   "outputs": [],
   "source": [
    "df_export = df_drivers[[\n",
    "    'Report Number', 'ACRS Report Type', 'Crash Date/Time', 'Route Type', \n",
    "    'Municipality', 'Weather', 'Surface Condition', 'Light', 'Person ID', \n",
    "    'Injury Severity', 'Circumstance', 'Drivers License State', 'Drivers License Country',\n",
    "    'Vehicle Body Type', 'Vehicle Class', 'Latitude', 'Longitude'\n",
    "]]"
   ]
  },
  {
   "cell_type": "code",
   "execution_count": 136,
   "id": "c6646948-4948-493c-87de-30b0b7f50918",
   "metadata": {},
   "outputs": [],
   "source": [
    "df_export.to_csv('data/MarylandCrashReports.csv', index=False)"
   ]
  },
  {
   "cell_type": "code",
   "execution_count": 76,
   "id": "c3c9d803-a5db-4f74-b7ff-698d637c09df",
   "metadata": {},
   "outputs": [],
   "source": [
    "# drop circumstance column\n",
    "df_no_circumstance = df_drivers[[\n",
    "    'Report Number', 'ACRS Report Type', 'Crash Date/Time', 'Route Type', \n",
    "    'Municipality', 'Weather', 'Surface Condition', 'Light', 'Person ID', \n",
    "    'Injury Severity', 'Drivers License State', 'Drivers License Country',\n",
    "    'Vehicle Body Type', 'Vehicle Class', 'Latitude', 'Longitude'\n",
    "]]"
   ]
  },
  {
   "cell_type": "code",
   "execution_count": 77,
   "id": "9d229751-6da9-4596-a8bc-2ea38a9cb618",
   "metadata": {},
   "outputs": [],
   "source": [
    "# drop duplicates from exploding 'Circumstance'\n",
    "df_no_circumstance = df_no_circumstance.drop_duplicates()"
   ]
  },
  {
   "cell_type": "code",
   "execution_count": 138,
   "id": "e1c83b39-c328-4f06-8be1-b9ec2ec6f6c3",
   "metadata": {},
   "outputs": [],
   "source": [
    "df_export.to_csv('data/MarylandCrashReports_NoCircumstance.csv', index=False)"
   ]
  }
 ],
 "metadata": {
  "kernelspec": {
   "display_name": "Python [conda env:base] *",
   "language": "python",
   "name": "conda-base-py"
  },
  "language_info": {
   "codemirror_mode": {
    "name": "ipython",
    "version": 3
   },
   "file_extension": ".py",
   "mimetype": "text/x-python",
   "name": "python",
   "nbconvert_exporter": "python",
   "pygments_lexer": "ipython3",
   "version": "3.12.7"
  }
 },
 "nbformat": 4,
 "nbformat_minor": 5
}
